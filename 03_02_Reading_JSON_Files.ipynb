{
  "nbformat": 4,
  "nbformat_minor": 0,
  "metadata": {
    "kernelspec": {
      "display_name": "Python 3",
      "language": "python",
      "name": "python3"
    },
    "language_info": {
      "codemirror_mode": {
        "name": "ipython",
        "version": 3
      },
      "file_extension": ".py",
      "mimetype": "text/x-python",
      "name": "python",
      "nbconvert_exporter": "python",
      "pygments_lexer": "ipython3",
      "version": "3.6.1"
    },
    "colab": {
      "name": "03.02 Reading JSON Files.ipynb",
      "provenance": [],
      "collapsed_sections": [],
      "include_colab_link": true
    }
  },
  "cells": [
    {
      "cell_type": "markdown",
      "metadata": {
        "id": "view-in-github",
        "colab_type": "text"
      },
      "source": [
        "<a href=\"https://colab.research.google.com/github/kappakpr/pysparkdemo/blob/master/03_02_Reading_JSON_Files.ipynb\" target=\"_parent\"><img src=\"https://colab.research.google.com/assets/colab-badge.svg\" alt=\"Open In Colab\"/></a>"
      ]
    },
    {
      "cell_type": "code",
      "metadata": {
        "id": "KbVNXOODgd1f",
        "colab_type": "code",
        "colab": {}
      },
      "source": [
        "!ls\n",
        "!apt-get update\n",
        "!apt-get install openjdk-8-jdk-headless -qq > /dev/null\n",
        "!wget -q http://archive.apache.org/dist/spark/spark-2.3.1/spark-2.3.1-bin-hadoop2.7.tgz\n",
        "!tar xf spark-2.3.1-bin-hadoop2.7.tgz\n",
        "!pip install -q findspark\n",
        "!ls -ltr\n",
        "!python --version\n",
        "\n",
        "#environment variables\n",
        "import os\n",
        "os.environ[\"JAVA_HOME\"] = \"/usr/lib/jvm/java-8-openjdk-amd64\"\n",
        "os.environ[\"SPARK_HOME\"] = \"/content/spark-2.3.1-bin-hadoop2.7\"\n",
        "!echo [\"$SPARK_HOME\"]\n",
        "\n",
        "#context\n",
        "import findspark\n",
        "findspark.init()\n",
        "from pyspark import SparkContext\n",
        "\n",
        "sc = SparkContext.getOrCreate()\n",
        "sc\n",
        "\n",
        "#session\n",
        "import pyspark\n",
        "from pyspark.sql import SparkSession\n",
        "spark = SparkSession.builder.getOrCreate() \n",
        "spark"
      ],
      "execution_count": 0,
      "outputs": []
    },
    {
      "cell_type": "code",
      "metadata": {
        "id": "CYzUFPJagazD",
        "colab_type": "code",
        "colab": {}
      },
      "source": [
        "data_path = '/Users/danielsullivan/LinkedIn Learning/Spark SQL/data'"
      ],
      "execution_count": 0,
      "outputs": []
    },
    {
      "cell_type": "code",
      "metadata": {
        "id": "jXPyhT6igazI",
        "colab_type": "code",
        "colab": {}
      },
      "source": [
        "json_df1_path = data_path + \"/location_temp.json\"\n",
        "df1 = spark.read.format(\"json\").load(json_df1_path)"
      ],
      "execution_count": 0,
      "outputs": []
    },
    {
      "cell_type": "code",
      "metadata": {
        "id": "svERPTttgazL",
        "colab_type": "code",
        "colab": {}
      },
      "source": [
        "json_df2_path = data_path + \"/utilization.json\"\n",
        "df2 = spark.read.format(\"json\").load(json_df2_path)"
      ],
      "execution_count": 0,
      "outputs": []
    },
    {
      "cell_type": "code",
      "metadata": {
        "id": "UJk6pRhegazP",
        "colab_type": "code",
        "colab": {}
      },
      "source": [
        "df1.count()"
      ],
      "execution_count": 0,
      "outputs": []
    },
    {
      "cell_type": "code",
      "metadata": {
        "id": "yEOZ-NyfgazT",
        "colab_type": "code",
        "colab": {}
      },
      "source": [
        "df1.head(10)"
      ],
      "execution_count": 0,
      "outputs": []
    },
    {
      "cell_type": "code",
      "metadata": {
        "id": "gKxgS97hgazY",
        "colab_type": "code",
        "colab": {}
      },
      "source": [
        "df2.count()"
      ],
      "execution_count": 0,
      "outputs": []
    },
    {
      "cell_type": "code",
      "metadata": {
        "id": "t8crGJCRgazb",
        "colab_type": "code",
        "colab": {}
      },
      "source": [
        "df2.show()"
      ],
      "execution_count": 0,
      "outputs": []
    },
    {
      "cell_type": "code",
      "metadata": {
        "id": "iv1j_2wxgazf",
        "colab_type": "code",
        "colab": {}
      },
      "source": [
        "! ls '/Users/danielsullivan/LinkedIn Learning/Spark SQL/data'"
      ],
      "execution_count": 0,
      "outputs": []
    },
    {
      "cell_type": "code",
      "metadata": {
        "id": "cCiODs-dgazi",
        "colab_type": "code",
        "colab": {}
      },
      "source": [
        "! ls '/Users/danielsullivan/LinkedIn Learning/Spark SQL/data/location_temp.json'"
      ],
      "execution_count": 0,
      "outputs": []
    },
    {
      "cell_type": "code",
      "metadata": {
        "id": "cNOkCC-Bgazl",
        "colab_type": "code",
        "colab": {}
      },
      "source": [
        "! ls '/Users/danielsullivan/LinkedIn Learning/Spark SQL/data/utilization.json'"
      ],
      "execution_count": 0,
      "outputs": []
    }
  ]
}
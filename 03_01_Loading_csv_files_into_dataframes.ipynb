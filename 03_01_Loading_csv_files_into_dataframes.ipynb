{
  "nbformat": 4,
  "nbformat_minor": 0,
  "metadata": {
    "kernelspec": {
      "display_name": "Python 3",
      "language": "python",
      "name": "python3"
    },
    "language_info": {
      "codemirror_mode": {
        "name": "ipython",
        "version": 3
      },
      "file_extension": ".py",
      "mimetype": "text/x-python",
      "name": "python",
      "nbconvert_exporter": "python",
      "pygments_lexer": "ipython3",
      "version": "3.6.1"
    },
    "colab": {
      "name": "03.01 Loading csv files into dataframes.ipynb",
      "provenance": [],
      "collapsed_sections": [],
      "include_colab_link": true
    }
  },
  "cells": [
    {
      "cell_type": "markdown",
      "metadata": {
        "id": "view-in-github",
        "colab_type": "text"
      },
      "source": [
        "<a href=\"https://colab.research.google.com/github/kappakpr/pysparkdemo/blob/master/03_01_Loading_csv_files_into_dataframes.ipynb\" target=\"_parent\"><img src=\"https://colab.research.google.com/assets/colab-badge.svg\" alt=\"Open In Colab\"/></a>"
      ]
    },
    {
      "cell_type": "code",
      "metadata": {
        "id": "hNE8peRho4m8",
        "colab_type": "code",
        "outputId": "16ff9887-9241-4c98-af71-feb9b8a9c4ca",
        "colab": {
          "base_uri": "https://localhost:8080/",
          "height": 485
        }
      },
      "source": [
        "!apt-get update\n",
        "!apt-get install openjdk-8-jdk-headless -qq > /dev/null\n",
        "!wget -q http://archive.apache.org/dist/spark/spark-2.3.1/spark-2.3.1-bin-hadoop2.7.tgz\n",
        "!tar xf spark-2.3.1-bin-hadoop2.7.tgz\n",
        "!pip install -q findspark"
      ],
      "execution_count": 1,
      "outputs": [
        {
          "output_type": "stream",
          "text": [
            "\r0% [Working]\r            \rGet:1 http://security.ubuntu.com/ubuntu bionic-security InRelease [88.7 kB]\n",
            "Ign:2 https://developer.download.nvidia.com/compute/cuda/repos/ubuntu1804/x86_64  InRelease\n",
            "Ign:3 https://developer.download.nvidia.com/compute/machine-learning/repos/ubuntu1804/x86_64  InRelease\n",
            "Hit:4 http://archive.ubuntu.com/ubuntu bionic InRelease\n",
            "Get:5 http://ppa.launchpad.net/graphics-drivers/ppa/ubuntu bionic InRelease [21.3 kB]\n",
            "Hit:6 https://developer.download.nvidia.com/compute/cuda/repos/ubuntu1804/x86_64  Release\n",
            "Hit:7 https://developer.download.nvidia.com/compute/machine-learning/repos/ubuntu1804/x86_64  Release\n",
            "Get:8 http://archive.ubuntu.com/ubuntu bionic-updates InRelease [88.7 kB]\n",
            "Get:9 https://cloud.r-project.org/bin/linux/ubuntu bionic-cran35/ InRelease [3,626 B]\n",
            "Get:10 http://security.ubuntu.com/ubuntu bionic-security/main amd64 Packages [894 kB]\n",
            "Get:11 http://ppa.launchpad.net/marutter/c2d4u3.5/ubuntu bionic InRelease [15.4 kB]\n",
            "Get:12 http://security.ubuntu.com/ubuntu bionic-security/multiverse amd64 Packages [8,213 B]\n",
            "Get:13 http://security.ubuntu.com/ubuntu bionic-security/restricted amd64 Packages [46.8 kB]\n",
            "Get:14 http://security.ubuntu.com/ubuntu bionic-security/universe amd64 Packages [839 kB]\n",
            "Get:15 http://archive.ubuntu.com/ubuntu bionic-backports InRelease [74.6 kB]\n",
            "Get:18 https://cloud.r-project.org/bin/linux/ubuntu bionic-cran35/ Packages [89.3 kB]\n",
            "Get:19 http://ppa.launchpad.net/graphics-drivers/ppa/ubuntu bionic/main amd64 Packages [37.4 kB]\n",
            "Get:20 http://ppa.launchpad.net/marutter/c2d4u3.5/ubuntu bionic/main Sources [1,811 kB]\n",
            "Get:21 http://archive.ubuntu.com/ubuntu bionic-updates/main amd64 Packages [1,200 kB]\n",
            "Get:22 http://archive.ubuntu.com/ubuntu bionic-updates/universe amd64 Packages [1,376 kB]\n",
            "Get:23 http://archive.ubuntu.com/ubuntu bionic-updates/multiverse amd64 Packages [12.9 kB]\n",
            "Get:24 http://archive.ubuntu.com/ubuntu bionic-updates/restricted amd64 Packages [62.7 kB]\n",
            "Get:25 http://archive.ubuntu.com/ubuntu bionic-backports/universe amd64 Packages [7,671 B]\n",
            "Get:26 http://archive.ubuntu.com/ubuntu bionic-backports/main amd64 Packages [8,286 B]\n",
            "Get:27 http://ppa.launchpad.net/marutter/c2d4u3.5/ubuntu bionic/main amd64 Packages [874 kB]\n",
            "Fetched 7,560 kB in 3s (2,217 kB/s)\n",
            "Reading package lists... Done\n"
          ],
          "name": "stdout"
        }
      ]
    },
    {
      "cell_type": "code",
      "metadata": {
        "id": "iVSzfPCSppXB",
        "colab_type": "code",
        "outputId": "5316ac35-8ba6-4952-a8f7-8021c474c0c1",
        "colab": {
          "base_uri": "https://localhost:8080/",
          "height": 51
        }
      },
      "source": [
        "#!pip install pyspark"
      ],
      "execution_count": 29,
      "outputs": [
        {
          "output_type": "stream",
          "text": [
            "Requirement already satisfied: pyspark in /usr/local/lib/python3.6/dist-packages (2.4.5)\n",
            "Requirement already satisfied: py4j==0.10.7 in /usr/local/lib/python3.6/dist-packages (from pyspark) (0.10.7)\n"
          ],
          "name": "stdout"
        }
      ]
    },
    {
      "cell_type": "code",
      "metadata": {
        "id": "shz70gyDqlJG",
        "colab_type": "code",
        "outputId": "71af6468-6892-41b0-dc4b-b8d2bce6f85c",
        "colab": {
          "base_uri": "https://localhost:8080/",
          "height": 103
        }
      },
      "source": [
        "!ls -ltr\n",
        "!python --version"
      ],
      "execution_count": 2,
      "outputs": [
        {
          "output_type": "stream",
          "text": [
            "total 220600\n",
            "drwxrwxr-x 13 1000 1000      4096 Jun  1  2018 spark-2.3.1-bin-hadoop2.7\n",
            "-rw-r--r--  1 root root 225883783 Jun  1  2018 spark-2.3.1-bin-hadoop2.7.tgz\n",
            "drwxr-xr-x  1 root root      4096 Apr  3 16:24 sample_data\n",
            "Python 3.6.9\n"
          ],
          "name": "stdout"
        }
      ]
    },
    {
      "cell_type": "code",
      "metadata": {
        "id": "bgmNpBTKP1bp",
        "colab_type": "code",
        "colab": {
          "base_uri": "https://localhost:8080/",
          "height": 34
        },
        "outputId": "79a07987-fbca-4336-9d91-c42a05c24466"
      },
      "source": [
        "import os\n",
        "os.environ[\"JAVA_HOME\"] = \"/usr/lib/jvm/java-8-openjdk-amd64\"\n",
        "os.environ[\"SPARK_HOME\"] = \"/content/spark-2.3.1-bin-hadoop2.7\"\n",
        "!echo [\"$SPARK_HOME\"]\n",
        "#!PATH=$PATH:$SPARK_HOME/bin\n",
        "#!echo $PATH\n",
        "#os.environ[\"PATH\"]=[\"$PATH\"]+\":\"+[\"$SPARK_HOME\"]+\"/bin/\"\n",
        "#os.environ[\"PYSPARK_DRIVER_PYTHON\"]=\"jupyter\"\n",
        "#os.environ[\"PYSPARK_DRIVER_PYTHON_OPTS\"]=\"notebook\""
      ],
      "execution_count": 3,
      "outputs": [
        {
          "output_type": "stream",
          "text": [
            "[/content/spark-2.3.1-bin-hadoop2.7]\n"
          ],
          "name": "stdout"
        }
      ]
    },
    {
      "cell_type": "code",
      "metadata": {
        "id": "tRpbl1zlIw4e",
        "colab_type": "code",
        "colab": {
          "base_uri": "https://localhost:8080/",
          "height": 195
        },
        "outputId": "6df6f6e8-6e29-40f8-84c4-25edb3959e38"
      },
      "source": [
        "import findspark\n",
        "findspark.init()\n",
        "from pyspark import SparkContext\n",
        "\n",
        "sc = SparkContext.getOrCreate()\n",
        "sc"
      ],
      "execution_count": 5,
      "outputs": [
        {
          "output_type": "execute_result",
          "data": {
            "text/html": [
              "\n",
              "        <div>\n",
              "            <p><b>SparkContext</b></p>\n",
              "\n",
              "            <p><a href=\"http://b7d3416a679f:4040\">Spark UI</a></p>\n",
              "\n",
              "            <dl>\n",
              "              <dt>Version</dt>\n",
              "                <dd><code>v2.3.1</code></dd>\n",
              "              <dt>Master</dt>\n",
              "                <dd><code>local[*]</code></dd>\n",
              "              <dt>AppName</dt>\n",
              "                <dd><code>pyspark-shell</code></dd>\n",
              "            </dl>\n",
              "        </div>\n",
              "        "
            ],
            "text/plain": [
              "<SparkContext master=local[*] appName=pyspark-shell>"
            ]
          },
          "metadata": {
            "tags": []
          },
          "execution_count": 5
        }
      ]
    },
    {
      "cell_type": "code",
      "metadata": {
        "id": "BFkqszE_o2yv",
        "colab_type": "code",
        "colab": {
          "base_uri": "https://localhost:8080/",
          "height": 219
        },
        "outputId": "d2b1c647-8c2a-4fc1-e732-1dff1125c9dc"
      },
      "source": [
        "data_path = '/content'\n",
        "\n",
        "import pyspark\n",
        "from pyspark.sql import SparkSession\n",
        "spark = SparkSession.builder.getOrCreate() \n",
        "spark"
      ],
      "execution_count": 6,
      "outputs": [
        {
          "output_type": "execute_result",
          "data": {
            "text/html": [
              "\n",
              "            <div>\n",
              "                <p><b>SparkSession - in-memory</b></p>\n",
              "                \n",
              "        <div>\n",
              "            <p><b>SparkContext</b></p>\n",
              "\n",
              "            <p><a href=\"http://b7d3416a679f:4040\">Spark UI</a></p>\n",
              "\n",
              "            <dl>\n",
              "              <dt>Version</dt>\n",
              "                <dd><code>v2.3.1</code></dd>\n",
              "              <dt>Master</dt>\n",
              "                <dd><code>local[*]</code></dd>\n",
              "              <dt>AppName</dt>\n",
              "                <dd><code>pyspark-shell</code></dd>\n",
              "            </dl>\n",
              "        </div>\n",
              "        \n",
              "            </div>\n",
              "        "
            ],
            "text/plain": [
              "<pyspark.sql.session.SparkSession at 0x7fea3647ec18>"
            ]
          },
          "metadata": {
            "tags": []
          },
          "execution_count": 6
        }
      ]
    },
    {
      "cell_type": "code",
      "metadata": {
        "id": "280NR6nXrcic",
        "colab_type": "code",
        "outputId": "473c18f2-8fd3-4611-8f41-9edfde3871b5",
        "colab": {
          "base_uri": "https://localhost:8080/",
          "height": 69
        }
      },
      "source": [
        "\n",
        "#!cd spark-2.3.1-bin-hadoop2.7\n",
        "!ls -a"
      ],
      "execution_count": 9,
      "outputs": [
        {
          "output_type": "stream",
          "text": [
            ".\t location_temp.csv  spark-2.3.1-bin-hadoop2.7\t   utilization.csv\n",
            "..\t sample_data\t    spark-2.3.1-bin-hadoop2.7.tgz\n",
            ".config  server_name.csv    spark-warehouse\n"
          ],
          "name": "stdout"
        }
      ]
    },
    {
      "cell_type": "markdown",
      "metadata": {
        "id": "foLC7Ox5MoQc",
        "colab_type": "text"
      },
      "source": [
        "# New Section"
      ]
    },
    {
      "cell_type": "code",
      "metadata": {
        "id": "KyVflfrGo2zQ",
        "colab_type": "code",
        "colab": {}
      },
      "source": [
        "file_path = data_path + \"/location_temp.csv\"\n",
        "df1 = spark.read.format(\"csv\").option(\"header\", \"true\").load(file_path)"
      ],
      "execution_count": 0,
      "outputs": []
    },
    {
      "cell_type": "code",
      "metadata": {
        "id": "nfQtsyUeo2zd",
        "colab_type": "code",
        "colab": {
          "base_uri": "https://localhost:8080/",
          "height": 190
        },
        "outputId": "19fc3ad6-96d8-459e-f373-9a9257c45bc4"
      },
      "source": [
        "df1.head(10)"
      ],
      "execution_count": 11,
      "outputs": [
        {
          "output_type": "execute_result",
          "data": {
            "text/plain": [
              "[Row(event_date='03/04/2019 19:48:06', location_id='loc0', temp_celcius='29'),\n",
              " Row(event_date='03/04/2019 19:53:06', location_id='loc0', temp_celcius='27'),\n",
              " Row(event_date='03/04/2019 19:58:06', location_id='loc0', temp_celcius='28'),\n",
              " Row(event_date='03/04/2019 20:03:06', location_id='loc0', temp_celcius='30'),\n",
              " Row(event_date='03/04/2019 20:08:06', location_id='loc0', temp_celcius='27'),\n",
              " Row(event_date='03/04/2019 20:13:06', location_id='loc0', temp_celcius='27'),\n",
              " Row(event_date='03/04/2019 20:18:06', location_id='loc0', temp_celcius='27'),\n",
              " Row(event_date='03/04/2019 20:23:06', location_id='loc0', temp_celcius='29'),\n",
              " Row(event_date='03/04/2019 20:28:06', location_id='loc0', temp_celcius='32'),\n",
              " Row(event_date='03/04/2019 20:33:06', location_id='loc0', temp_celcius='35')]"
            ]
          },
          "metadata": {
            "tags": []
          },
          "execution_count": 11
        }
      ]
    },
    {
      "cell_type": "code",
      "metadata": {
        "id": "JYJUFyhAo2zq",
        "colab_type": "code",
        "colab": {
          "base_uri": "https://localhost:8080/",
          "height": 467
        },
        "outputId": "3ee02135-197a-4bf3-e9f7-195eaae7ec6c"
      },
      "source": [
        "df1.show()"
      ],
      "execution_count": 12,
      "outputs": [
        {
          "output_type": "stream",
          "text": [
            "+-------------------+-----------+------------+\n",
            "|         event_date|location_id|temp_celcius|\n",
            "+-------------------+-----------+------------+\n",
            "|03/04/2019 19:48:06|       loc0|          29|\n",
            "|03/04/2019 19:53:06|       loc0|          27|\n",
            "|03/04/2019 19:58:06|       loc0|          28|\n",
            "|03/04/2019 20:03:06|       loc0|          30|\n",
            "|03/04/2019 20:08:06|       loc0|          27|\n",
            "|03/04/2019 20:13:06|       loc0|          27|\n",
            "|03/04/2019 20:18:06|       loc0|          27|\n",
            "|03/04/2019 20:23:06|       loc0|          29|\n",
            "|03/04/2019 20:28:06|       loc0|          32|\n",
            "|03/04/2019 20:33:06|       loc0|          35|\n",
            "|03/04/2019 20:38:06|       loc0|          32|\n",
            "|03/04/2019 20:43:06|       loc0|          28|\n",
            "|03/04/2019 20:48:06|       loc0|          28|\n",
            "|03/04/2019 20:53:06|       loc0|          32|\n",
            "|03/04/2019 20:58:06|       loc0|          34|\n",
            "|03/04/2019 21:03:06|       loc0|          33|\n",
            "|03/04/2019 21:08:06|       loc0|          27|\n",
            "|03/04/2019 21:13:06|       loc0|          28|\n",
            "|03/04/2019 21:18:06|       loc0|          33|\n",
            "|03/04/2019 21:23:06|       loc0|          28|\n",
            "+-------------------+-----------+------------+\n",
            "only showing top 20 rows\n",
            "\n"
          ],
          "name": "stdout"
        }
      ]
    },
    {
      "cell_type": "code",
      "metadata": {
        "id": "JzT_Rd4Ao2zy",
        "colab_type": "code",
        "colab": {
          "base_uri": "https://localhost:8080/",
          "height": 34
        },
        "outputId": "605b5b1a-ecc5-49c7-cb5a-a3113fea1fa6"
      },
      "source": [
        "df1.count()"
      ],
      "execution_count": 13,
      "outputs": [
        {
          "output_type": "execute_result",
          "data": {
            "text/plain": [
              "500000"
            ]
          },
          "metadata": {
            "tags": []
          },
          "execution_count": 13
        }
      ]
    },
    {
      "cell_type": "code",
      "metadata": {
        "id": "XMw0oUPVo2z2",
        "colab_type": "code",
        "colab": {}
      },
      "source": [
        "file_path_no_header = data_path + \"/utilization.csv\"\n",
        "df2 = spark.read.format(\"csv\").option(\"header\", \"false\").option(\"inferSchema\",\"true\").load(file_path_no_header)"
      ],
      "execution_count": 0,
      "outputs": []
    },
    {
      "cell_type": "code",
      "metadata": {
        "id": "OrxZF5vio2z9",
        "colab_type": "code",
        "colab": {}
      },
      "source": [
        "df2.count()"
      ],
      "execution_count": 0,
      "outputs": []
    },
    {
      "cell_type": "code",
      "metadata": {
        "id": "kruy_u2oo20E",
        "colab_type": "code",
        "colab": {}
      },
      "source": [
        "df2.head(10)"
      ],
      "execution_count": 0,
      "outputs": []
    },
    {
      "cell_type": "code",
      "metadata": {
        "id": "G95Kufhzo20N",
        "colab_type": "code",
        "colab": {}
      },
      "source": [
        "df2 = df2.withColumnRenamed(\"_c0\", \"event_datetime\") \\\n",
        "        .withColumnRenamed (\"_c1\", \"server_id\")       \\\n",
        "        .withColumnRenamed(\"_c2\", \"cpu_utilization\")  \\\n",
        "        .withColumnRenamed(\"_c3\", \"free_memory\")      \\\n",
        "        .withColumnRenamed(\"_c4\", \"session_count\")"
      ],
      "execution_count": 0,
      "outputs": []
    },
    {
      "cell_type": "code",
      "metadata": {
        "id": "doQrNQngo20T",
        "colab_type": "code",
        "colab": {}
      },
      "source": [
        "df2.head(10)"
      ],
      "execution_count": 0,
      "outputs": []
    },
    {
      "cell_type": "code",
      "metadata": {
        "id": "Ow204Apgo20b",
        "colab_type": "code",
        "colab": {}
      },
      "source": [
        "df2.show()"
      ],
      "execution_count": 0,
      "outputs": []
    },
    {
      "cell_type": "code",
      "metadata": {
        "id": "SdjOKK_9o20i",
        "colab_type": "code",
        "colab": {}
      },
      "source": [
        "json_df1_path = data_path + \"/location_temp.json\"\n",
        "df1.write.json(json_df1_path)"
      ],
      "execution_count": 0,
      "outputs": []
    },
    {
      "cell_type": "code",
      "metadata": {
        "id": "flMG01hIo20m",
        "colab_type": "code",
        "colab": {}
      },
      "source": [
        "json_df2_path = data_path + \"/utilization.json\"\n",
        "df2.write.json(json_df2_path)"
      ],
      "execution_count": 0,
      "outputs": []
    }
  ]
}
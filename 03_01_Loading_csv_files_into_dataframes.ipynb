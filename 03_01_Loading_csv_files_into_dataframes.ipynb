{
  "nbformat": 4,
  "nbformat_minor": 0,
  "metadata": {
    "kernelspec": {
      "display_name": "Python 3",
      "language": "python",
      "name": "python3"
    },
    "language_info": {
      "codemirror_mode": {
        "name": "ipython",
        "version": 3
      },
      "file_extension": ".py",
      "mimetype": "text/x-python",
      "name": "python",
      "nbconvert_exporter": "python",
      "pygments_lexer": "ipython3",
      "version": "3.6.1"
    },
    "colab": {
      "name": "03.01 Loading csv files into dataframes.ipynb",
      "provenance": [],
      "collapsed_sections": [],
      "toc_visible": true,
      "include_colab_link": true
    }
  },
  "cells": [
    {
      "cell_type": "markdown",
      "metadata": {
        "id": "view-in-github",
        "colab_type": "text"
      },
      "source": [
        "<a href=\"https://colab.research.google.com/github/kappakpr/pysparkdemo/blob/master/03_01_Loading_csv_files_into_dataframes.ipynb\" target=\"_parent\"><img src=\"https://colab.research.google.com/assets/colab-badge.svg\" alt=\"Open In Colab\"/></a>"
      ]
    },
    {
      "cell_type": "code",
      "metadata": {
        "id": "hNE8peRho4m8",
        "colab_type": "code",
        "outputId": "385ecd71-5509-495c-ce9b-1657b303c1fa",
        "colab": {
          "base_uri": "https://localhost:8080/",
          "height": 591
        }
      },
      "source": [
        "!apt-get update\n",
        "!apt-get install openjdk-8-jdk-headless -qq > /dev/null\n",
        "!wget -q http://archive.apache.org/dist/spark/spark-2.3.1/spark-2.3.1-bin-hadoop2.7.tgz\n",
        "!tar xf spark-2.3.1-bin-hadoop2.7.tgz\n",
        "!pip install -q findspark\n",
        "!ls -ltr\n",
        "!python --version"
      ],
      "execution_count": 1,
      "outputs": [
        {
          "output_type": "stream",
          "text": [
            "\r0% [Working]\r            \rGet:1 http://ppa.launchpad.net/graphics-drivers/ppa/ubuntu bionic InRelease [21.3 kB]\n",
            "\r0% [Connecting to archive.ubuntu.com (91.189.88.142)] [Waiting for headers] [Co\r                                                                               \rGet:2 http://security.ubuntu.com/ubuntu bionic-security InRelease [88.7 kB]\n",
            "\r0% [Connecting to archive.ubuntu.com (91.189.88.142)] [2 InRelease 2,586 B/88.7\r0% [Waiting for headers] [2 InRelease 88.7 kB/88.7 kB 100%] [Connected to cloud\r                                                                               \rHit:3 http://archive.ubuntu.com/ubuntu bionic InRelease\n",
            "\r                                                                               \rGet:4 http://archive.ubuntu.com/ubuntu bionic-updates InRelease [88.7 kB]\n",
            "\r                                                                               \rGet:5 https://cloud.r-project.org/bin/linux/ubuntu bionic-cran35/ InRelease [3,626 B]\n",
            "\r                                                                               \rGet:6 http://ppa.launchpad.net/marutter/c2d4u3.5/ubuntu bionic InRelease [15.4 kB]\n",
            "\r                                                                               \r0% [4 InRelease 27.2 kB/88.7 kB 31%] [Waiting for headers]\r0% [1 InRelease gpgv 21.3 kB] [4 InRelease 27.2 kB/88.7 kB 31%] [Waiting for he\r                                                                               \r0% [1 InRelease gpgv 21.3 kB] [Waiting for headers] [Waiting for headers]\r                                                                         \rGet:7 http://archive.ubuntu.com/ubuntu bionic-backports InRelease [74.6 kB]\n",
            "Ign:8 https://developer.download.nvidia.com/compute/cuda/repos/ubuntu1804/x86_64  InRelease\n",
            "Get:9 http://ppa.launchpad.net/graphics-drivers/ppa/ubuntu bionic/main amd64 Packages [37.4 kB]\n",
            "Ign:10 https://developer.download.nvidia.com/compute/machine-learning/repos/ubuntu1804/x86_64  InRelease\n",
            "Hit:11 https://developer.download.nvidia.com/compute/cuda/repos/ubuntu1804/x86_64  Release\n",
            "Hit:12 https://developer.download.nvidia.com/compute/machine-learning/repos/ubuntu1804/x86_64  Release\n",
            "Get:13 http://security.ubuntu.com/ubuntu bionic-security/restricted amd64 Packages [46.8 kB]\n",
            "Get:14 http://security.ubuntu.com/ubuntu bionic-security/multiverse amd64 Packages [8,213 B]\n",
            "Get:15 http://security.ubuntu.com/ubuntu bionic-security/main amd64 Packages [894 kB]\n",
            "Get:16 http://security.ubuntu.com/ubuntu bionic-security/universe amd64 Packages [839 kB]\n",
            "Get:17 https://cloud.r-project.org/bin/linux/ubuntu bionic-cran35/ Packages [91.7 kB]\n",
            "Get:18 http://ppa.launchpad.net/marutter/c2d4u3.5/ubuntu bionic/main Sources [1,813 kB]\n",
            "Get:19 http://ppa.launchpad.net/marutter/c2d4u3.5/ubuntu bionic/main amd64 Packages [874 kB]\n",
            "Get:20 http://archive.ubuntu.com/ubuntu bionic-updates/multiverse amd64 Packages [12.9 kB]\n",
            "Get:21 http://archive.ubuntu.com/ubuntu bionic-updates/universe amd64 Packages [1,376 kB]\n",
            "Get:22 http://archive.ubuntu.com/ubuntu bionic-updates/main amd64 Packages [1,200 kB]\n",
            "Get:23 http://archive.ubuntu.com/ubuntu bionic-updates/restricted amd64 Packages [62.7 kB]\n",
            "Get:24 http://archive.ubuntu.com/ubuntu bionic-backports/universe amd64 Packages [7,671 B]\n",
            "Get:25 http://archive.ubuntu.com/ubuntu bionic-backports/main amd64 Packages [8,286 B]\n",
            "Fetched 7,565 kB in 2s (3,676 kB/s)\n",
            "Reading package lists... Done\n",
            "total 220600\n",
            "drwxrwxr-x 13 1000 1000      4096 Jun  1  2018 spark-2.3.1-bin-hadoop2.7\n",
            "-rw-r--r--  1 root root 225883783 Jun  1  2018 spark-2.3.1-bin-hadoop2.7.tgz\n",
            "drwxr-xr-x  1 root root      4096 Apr  3 16:24 sample_data\n",
            "Python 3.6.9\n"
          ],
          "name": "stdout"
        }
      ]
    },
    {
      "cell_type": "code",
      "metadata": {
        "id": "iVSzfPCSppXB",
        "colab_type": "code",
        "outputId": "5316ac35-8ba6-4952-a8f7-8021c474c0c1",
        "colab": {
          "base_uri": "https://localhost:8080/",
          "height": 51
        }
      },
      "source": [
        "#!pip install pyspark -- install causes conflict"
      ],
      "execution_count": 0,
      "outputs": [
        {
          "output_type": "stream",
          "text": [
            "Requirement already satisfied: pyspark in /usr/local/lib/python3.6/dist-packages (2.4.5)\n",
            "Requirement already satisfied: py4j==0.10.7 in /usr/local/lib/python3.6/dist-packages (from pyspark) (0.10.7)\n"
          ],
          "name": "stdout"
        }
      ]
    },
    {
      "cell_type": "code",
      "metadata": {
        "id": "bgmNpBTKP1bp",
        "colab_type": "code",
        "outputId": "fddfab65-603c-4ab3-a5fc-d31b0c6f302a",
        "colab": {
          "base_uri": "https://localhost:8080/",
          "height": 34
        }
      },
      "source": [
        "#environment variables\n",
        "import os\n",
        "os.environ[\"JAVA_HOME\"] = \"/usr/lib/jvm/java-8-openjdk-amd64\"\n",
        "os.environ[\"SPARK_HOME\"] = \"/content/spark-2.3.1-bin-hadoop2.7\"\n",
        "!echo [\"$SPARK_HOME\"]\n",
        "#!PATH=$PATH:$SPARK_HOME/bin\n",
        "#!echo $PATH\n",
        "#os.environ[\"PATH\"]=[\"$PATH\"]+\":\"+[\"$SPARK_HOME\"]+\"/bin/\"\n",
        "#os.environ[\"PYSPARK_DRIVER_PYTHON\"]=\"jupyter\"\n",
        "#os.environ[\"PYSPARK_DRIVER_PYTHON_OPTS\"]=\"notebook\""
      ],
      "execution_count": 2,
      "outputs": [
        {
          "output_type": "stream",
          "text": [
            "[/content/spark-2.3.1-bin-hadoop2.7]\n"
          ],
          "name": "stdout"
        }
      ]
    },
    {
      "cell_type": "code",
      "metadata": {
        "id": "tRpbl1zlIw4e",
        "colab_type": "code",
        "outputId": "a08ef413-9fc7-4ba4-ab72-31574a0049d4",
        "colab": {
          "base_uri": "https://localhost:8080/",
          "height": 195
        }
      },
      "source": [
        "#context\n",
        "import findspark\n",
        "findspark.init()\n",
        "from pyspark import SparkContext\n",
        "\n",
        "sc = SparkContext.getOrCreate()\n",
        "sc"
      ],
      "execution_count": 3,
      "outputs": [
        {
          "output_type": "execute_result",
          "data": {
            "text/html": [
              "\n",
              "        <div>\n",
              "            <p><b>SparkContext</b></p>\n",
              "\n",
              "            <p><a href=\"http://4057d7d867af:4040\">Spark UI</a></p>\n",
              "\n",
              "            <dl>\n",
              "              <dt>Version</dt>\n",
              "                <dd><code>v2.3.1</code></dd>\n",
              "              <dt>Master</dt>\n",
              "                <dd><code>local[*]</code></dd>\n",
              "              <dt>AppName</dt>\n",
              "                <dd><code>pyspark-shell</code></dd>\n",
              "            </dl>\n",
              "        </div>\n",
              "        "
            ],
            "text/plain": [
              "<SparkContext master=local[*] appName=pyspark-shell>"
            ]
          },
          "metadata": {
            "tags": []
          },
          "execution_count": 3
        }
      ]
    },
    {
      "cell_type": "code",
      "metadata": {
        "id": "BFkqszE_o2yv",
        "colab_type": "code",
        "outputId": "64b665f6-d29e-49ef-8531-bc18dd5e43a5",
        "colab": {
          "base_uri": "https://localhost:8080/",
          "height": 219
        }
      },
      "source": [
        "#session\n",
        "import pyspark\n",
        "from pyspark.sql import SparkSession\n",
        "spark = SparkSession.builder.getOrCreate() \n",
        "spark"
      ],
      "execution_count": 4,
      "outputs": [
        {
          "output_type": "execute_result",
          "data": {
            "text/html": [
              "\n",
              "            <div>\n",
              "                <p><b>SparkSession - in-memory</b></p>\n",
              "                \n",
              "        <div>\n",
              "            <p><b>SparkContext</b></p>\n",
              "\n",
              "            <p><a href=\"http://4057d7d867af:4040\">Spark UI</a></p>\n",
              "\n",
              "            <dl>\n",
              "              <dt>Version</dt>\n",
              "                <dd><code>v2.3.1</code></dd>\n",
              "              <dt>Master</dt>\n",
              "                <dd><code>local[*]</code></dd>\n",
              "              <dt>AppName</dt>\n",
              "                <dd><code>pyspark-shell</code></dd>\n",
              "            </dl>\n",
              "        </div>\n",
              "        \n",
              "            </div>\n",
              "        "
            ],
            "text/plain": [
              "<pyspark.sql.session.SparkSession at 0x7f207d500c88>"
            ]
          },
          "metadata": {
            "tags": []
          },
          "execution_count": 4
        }
      ]
    },
    {
      "cell_type": "code",
      "metadata": {
        "id": "280NR6nXrcic",
        "colab_type": "code",
        "outputId": "94ef59d6-dfd2-4514-ef58-518d5cbeb6ff",
        "colab": {
          "base_uri": "https://localhost:8080/",
          "height": 69
        }
      },
      "source": [
        "data_path = '/content'\n",
        "#!cd spark-2.3.1-bin-hadoop2.7\n",
        "!ls -a"
      ],
      "execution_count": 6,
      "outputs": [
        {
          "output_type": "stream",
          "text": [
            ".\t location_temp.csv  spark-2.3.1-bin-hadoop2.7\n",
            "..\t sample_data\t    spark-2.3.1-bin-hadoop2.7.tgz\n",
            ".config  server_name.csv    utilization.csv\n"
          ],
          "name": "stdout"
        }
      ]
    },
    {
      "cell_type": "markdown",
      "metadata": {
        "id": "foLC7Ox5MoQc",
        "colab_type": "text"
      },
      "source": [
        "# New Section"
      ]
    },
    {
      "cell_type": "code",
      "metadata": {
        "id": "KyVflfrGo2zQ",
        "colab_type": "code",
        "colab": {}
      },
      "source": [
        "file_path = data_path + \"/location_temp.csv\"\n",
        "df1 = spark.read.format(\"csv\").option(\"header\", \"true\").load(file_path)"
      ],
      "execution_count": 0,
      "outputs": []
    },
    {
      "cell_type": "code",
      "metadata": {
        "id": "nfQtsyUeo2zd",
        "colab_type": "code",
        "outputId": "5430dccd-c201-4c1b-d69c-ffea93b71dc3",
        "colab": {
          "base_uri": "https://localhost:8080/",
          "height": 190
        }
      },
      "source": [
        "df1.head(10)"
      ],
      "execution_count": 9,
      "outputs": [
        {
          "output_type": "execute_result",
          "data": {
            "text/plain": [
              "[Row(event_date='03/04/2019 19:48:06', location_id='loc0', temp_celcius='29'),\n",
              " Row(event_date='03/04/2019 19:53:06', location_id='loc0', temp_celcius='27'),\n",
              " Row(event_date='03/04/2019 19:58:06', location_id='loc0', temp_celcius='28'),\n",
              " Row(event_date='03/04/2019 20:03:06', location_id='loc0', temp_celcius='30'),\n",
              " Row(event_date='03/04/2019 20:08:06', location_id='loc0', temp_celcius='27'),\n",
              " Row(event_date='03/04/2019 20:13:06', location_id='loc0', temp_celcius='27'),\n",
              " Row(event_date='03/04/2019 20:18:06', location_id='loc0', temp_celcius='27'),\n",
              " Row(event_date='03/04/2019 20:23:06', location_id='loc0', temp_celcius='29'),\n",
              " Row(event_date='03/04/2019 20:28:06', location_id='loc0', temp_celcius='32'),\n",
              " Row(event_date='03/04/2019 20:33:06', location_id='loc0', temp_celcius='35')]"
            ]
          },
          "metadata": {
            "tags": []
          },
          "execution_count": 9
        }
      ]
    },
    {
      "cell_type": "code",
      "metadata": {
        "id": "JYJUFyhAo2zq",
        "colab_type": "code",
        "outputId": "2f9c3bb7-32e2-4b37-a10a-b5946132a81f",
        "colab": {
          "base_uri": "https://localhost:8080/",
          "height": 467
        }
      },
      "source": [
        "df1.show()"
      ],
      "execution_count": 10,
      "outputs": [
        {
          "output_type": "stream",
          "text": [
            "+-------------------+-----------+------------+\n",
            "|         event_date|location_id|temp_celcius|\n",
            "+-------------------+-----------+------------+\n",
            "|03/04/2019 19:48:06|       loc0|          29|\n",
            "|03/04/2019 19:53:06|       loc0|          27|\n",
            "|03/04/2019 19:58:06|       loc0|          28|\n",
            "|03/04/2019 20:03:06|       loc0|          30|\n",
            "|03/04/2019 20:08:06|       loc0|          27|\n",
            "|03/04/2019 20:13:06|       loc0|          27|\n",
            "|03/04/2019 20:18:06|       loc0|          27|\n",
            "|03/04/2019 20:23:06|       loc0|          29|\n",
            "|03/04/2019 20:28:06|       loc0|          32|\n",
            "|03/04/2019 20:33:06|       loc0|          35|\n",
            "|03/04/2019 20:38:06|       loc0|          32|\n",
            "|03/04/2019 20:43:06|       loc0|          28|\n",
            "|03/04/2019 20:48:06|       loc0|          28|\n",
            "|03/04/2019 20:53:06|       loc0|          32|\n",
            "|03/04/2019 20:58:06|       loc0|          34|\n",
            "|03/04/2019 21:03:06|       loc0|          33|\n",
            "|03/04/2019 21:08:06|       loc0|          27|\n",
            "|03/04/2019 21:13:06|       loc0|          28|\n",
            "|03/04/2019 21:18:06|       loc0|          33|\n",
            "|03/04/2019 21:23:06|       loc0|          28|\n",
            "+-------------------+-----------+------------+\n",
            "only showing top 20 rows\n",
            "\n"
          ],
          "name": "stdout"
        }
      ]
    },
    {
      "cell_type": "code",
      "metadata": {
        "id": "JzT_Rd4Ao2zy",
        "colab_type": "code",
        "outputId": "978eb511-5297-4741-a75e-cd45f164e927",
        "colab": {
          "base_uri": "https://localhost:8080/",
          "height": 34
        }
      },
      "source": [
        "df1.count()"
      ],
      "execution_count": 11,
      "outputs": [
        {
          "output_type": "execute_result",
          "data": {
            "text/plain": [
              "500000"
            ]
          },
          "metadata": {
            "tags": []
          },
          "execution_count": 11
        }
      ]
    },
    {
      "cell_type": "code",
      "metadata": {
        "id": "XMw0oUPVo2z2",
        "colab_type": "code",
        "colab": {}
      },
      "source": [
        "file_path_no_header = data_path + \"/utilization.csv\"\n",
        "df2 = spark.read.format(\"csv\").option(\"header\", \"false\").option(\"inferSchema\",\"true\").load(file_path_no_header)"
      ],
      "execution_count": 0,
      "outputs": []
    },
    {
      "cell_type": "code",
      "metadata": {
        "id": "OrxZF5vio2z9",
        "colab_type": "code",
        "outputId": "6a23b7bb-8403-4ca1-bfde-475f464197c2",
        "colab": {
          "base_uri": "https://localhost:8080/",
          "height": 34
        }
      },
      "source": [
        "df2.count()"
      ],
      "execution_count": 13,
      "outputs": [
        {
          "output_type": "execute_result",
          "data": {
            "text/plain": [
              "500000"
            ]
          },
          "metadata": {
            "tags": []
          },
          "execution_count": 13
        }
      ]
    },
    {
      "cell_type": "code",
      "metadata": {
        "id": "kruy_u2oo20E",
        "colab_type": "code",
        "outputId": "81c2b75b-b182-4de5-d0d6-fb0f4e30c90d",
        "colab": {
          "base_uri": "https://localhost:8080/",
          "height": 190
        }
      },
      "source": [
        "df2.head(10)"
      ],
      "execution_count": 14,
      "outputs": [
        {
          "output_type": "execute_result",
          "data": {
            "text/plain": [
              "[Row(_c0='03/05/2019 08:06:14', _c1=100, _c2=0.57, _c3=0.51, _c4=47),\n",
              " Row(_c0='03/05/2019 08:11:14', _c1=100, _c2=0.47, _c3=0.62, _c4=43),\n",
              " Row(_c0='03/05/2019 08:16:14', _c1=100, _c2=0.56, _c3=0.57, _c4=62),\n",
              " Row(_c0='03/05/2019 08:21:14', _c1=100, _c2=0.57, _c3=0.56, _c4=50),\n",
              " Row(_c0='03/05/2019 08:26:14', _c1=100, _c2=0.35, _c3=0.46, _c4=43),\n",
              " Row(_c0='03/05/2019 08:31:14', _c1=100, _c2=0.41, _c3=0.58, _c4=48),\n",
              " Row(_c0='03/05/2019 08:36:14', _c1=100, _c2=0.57, _c3=0.35, _c4=58),\n",
              " Row(_c0='03/05/2019 08:41:14', _c1=100, _c2=0.41, _c3=0.4, _c4=58),\n",
              " Row(_c0='03/05/2019 08:46:14', _c1=100, _c2=0.53, _c3=0.35, _c4=62),\n",
              " Row(_c0='03/05/2019 08:51:14', _c1=100, _c2=0.51, _c3=0.6, _c4=45)]"
            ]
          },
          "metadata": {
            "tags": []
          },
          "execution_count": 14
        }
      ]
    },
    {
      "cell_type": "code",
      "metadata": {
        "id": "G95Kufhzo20N",
        "colab_type": "code",
        "colab": {}
      },
      "source": [
        "df2 = df2.withColumnRenamed(\"_c0\", \"event_datetime\") \\\n",
        "        .withColumnRenamed (\"_c1\", \"server_id\")       \\\n",
        "        .withColumnRenamed(\"_c2\", \"cpu_utilization\")  \\\n",
        "        .withColumnRenamed(\"_c3\", \"free_memory\")      \\\n",
        "        .withColumnRenamed(\"_c4\", \"session_count\")"
      ],
      "execution_count": 0,
      "outputs": []
    },
    {
      "cell_type": "code",
      "metadata": {
        "id": "doQrNQngo20T",
        "colab_type": "code",
        "colab": {
          "base_uri": "https://localhost:8080/",
          "height": 210
        },
        "outputId": "c29abfce-1f9c-4408-a617-bc99128962ae"
      },
      "source": [
        "df2.head(10)"
      ],
      "execution_count": 16,
      "outputs": [
        {
          "output_type": "execute_result",
          "data": {
            "text/plain": [
              "[Row(event_datetime='03/05/2019 08:06:14', server_id=100, cpu_utilization=0.57, free_memory=0.51, session_count=47),\n",
              " Row(event_datetime='03/05/2019 08:11:14', server_id=100, cpu_utilization=0.47, free_memory=0.62, session_count=43),\n",
              " Row(event_datetime='03/05/2019 08:16:14', server_id=100, cpu_utilization=0.56, free_memory=0.57, session_count=62),\n",
              " Row(event_datetime='03/05/2019 08:21:14', server_id=100, cpu_utilization=0.57, free_memory=0.56, session_count=50),\n",
              " Row(event_datetime='03/05/2019 08:26:14', server_id=100, cpu_utilization=0.35, free_memory=0.46, session_count=43),\n",
              " Row(event_datetime='03/05/2019 08:31:14', server_id=100, cpu_utilization=0.41, free_memory=0.58, session_count=48),\n",
              " Row(event_datetime='03/05/2019 08:36:14', server_id=100, cpu_utilization=0.57, free_memory=0.35, session_count=58),\n",
              " Row(event_datetime='03/05/2019 08:41:14', server_id=100, cpu_utilization=0.41, free_memory=0.4, session_count=58),\n",
              " Row(event_datetime='03/05/2019 08:46:14', server_id=100, cpu_utilization=0.53, free_memory=0.35, session_count=62),\n",
              " Row(event_datetime='03/05/2019 08:51:14', server_id=100, cpu_utilization=0.51, free_memory=0.6, session_count=45)]"
            ]
          },
          "metadata": {
            "tags": []
          },
          "execution_count": 16
        }
      ]
    },
    {
      "cell_type": "code",
      "metadata": {
        "id": "Ow204Apgo20b",
        "colab_type": "code",
        "colab": {
          "base_uri": "https://localhost:8080/",
          "height": 467
        },
        "outputId": "c804d518-112e-4060-d46b-b2933cbdecbd"
      },
      "source": [
        "df2.show()"
      ],
      "execution_count": 17,
      "outputs": [
        {
          "output_type": "stream",
          "text": [
            "+-------------------+---------+---------------+-----------+-------------+\n",
            "|     event_datetime|server_id|cpu_utilization|free_memory|session_count|\n",
            "+-------------------+---------+---------------+-----------+-------------+\n",
            "|03/05/2019 08:06:14|      100|           0.57|       0.51|           47|\n",
            "|03/05/2019 08:11:14|      100|           0.47|       0.62|           43|\n",
            "|03/05/2019 08:16:14|      100|           0.56|       0.57|           62|\n",
            "|03/05/2019 08:21:14|      100|           0.57|       0.56|           50|\n",
            "|03/05/2019 08:26:14|      100|           0.35|       0.46|           43|\n",
            "|03/05/2019 08:31:14|      100|           0.41|       0.58|           48|\n",
            "|03/05/2019 08:36:14|      100|           0.57|       0.35|           58|\n",
            "|03/05/2019 08:41:14|      100|           0.41|        0.4|           58|\n",
            "|03/05/2019 08:46:14|      100|           0.53|       0.35|           62|\n",
            "|03/05/2019 08:51:14|      100|           0.51|        0.6|           45|\n",
            "|03/05/2019 08:56:14|      100|           0.32|       0.37|           47|\n",
            "|03/05/2019 09:01:14|      100|           0.62|       0.59|           60|\n",
            "|03/05/2019 09:06:14|      100|           0.66|       0.72|           57|\n",
            "|03/05/2019 09:11:14|      100|           0.54|       0.54|           44|\n",
            "|03/05/2019 09:16:14|      100|           0.29|        0.4|           47|\n",
            "|03/05/2019 09:21:14|      100|           0.43|       0.68|           66|\n",
            "|03/05/2019 09:26:14|      100|           0.49|       0.66|           65|\n",
            "|03/05/2019 09:31:14|      100|           0.64|       0.55|           66|\n",
            "|03/05/2019 09:36:14|      100|           0.42|        0.6|           42|\n",
            "|03/05/2019 09:41:14|      100|           0.55|       0.59|           63|\n",
            "+-------------------+---------+---------------+-----------+-------------+\n",
            "only showing top 20 rows\n",
            "\n"
          ],
          "name": "stdout"
        }
      ]
    },
    {
      "cell_type": "code",
      "metadata": {
        "id": "SdjOKK_9o20i",
        "colab_type": "code",
        "colab": {}
      },
      "source": [
        "json_df1_path = data_path + \"/location_temp.json\"\n",
        "df1.write.json(json_df1_path)"
      ],
      "execution_count": 0,
      "outputs": []
    },
    {
      "cell_type": "code",
      "metadata": {
        "id": "flMG01hIo20m",
        "colab_type": "code",
        "colab": {}
      },
      "source": [
        "json_df2_path = data_path + \"/utilization.json\"\n",
        "df2.write.json(json_df2_path)"
      ],
      "execution_count": 0,
      "outputs": []
    }
  ]
}